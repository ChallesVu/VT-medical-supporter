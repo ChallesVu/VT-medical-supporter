{
  "cells": [
    {
      "cell_type": "code",
      "execution_count": 43,
      "metadata": {
        "colab": {
          "base_uri": "https://localhost:8080/"
        },
        "id": "bS1PEfpvHq3N",
        "outputId": "1d9a4ee1-71ef-40bb-98d4-37cae40e6c96"
      },
      "outputs": [],
      "source": [
        "import requests\n",
        "from bs4 import BeautifulSoup\n",
        "import pandas as pd"
      ]
    },
    {
      "cell_type": "code",
      "execution_count": 2,
      "metadata": {
        "id": "w-M2DdJPKOdV"
      },
      "outputs": [],
      "source": [
        "BASE_URL = \"https://www.vinmec.com/vi/tin-tuc/hoi-dap-bac-si/?page={}\""
      ]
    },
    {
      "cell_type": "code",
      "execution_count": 4,
      "metadata": {
        "colab": {
          "base_uri": "https://localhost:8080/"
        },
        "id": "mEb3oagxH3i5",
        "outputId": "85ccc5a4-f9e9-4af7-edae-ef180a3c39d4"
      },
      "outputs": [],
      "source": [
        "page = 1\n",
        "list_url = []\n",
        "while page <= 563:\n",
        "    url = BASE_URL.format(page)\n",
        "    response = requests.get(url)\n",
        "\n",
        "    soup = BeautifulSoup(response.text, 'html.parser')\n",
        "    h2_tags = soup.find_all('h2')\n",
        "\n",
        "    for h2 in h2_tags:\n",
        "        a_tags = h2.find_all('a')\n",
        "        for a in a_tags:\n",
        "            list_url.append(a['href'])\n",
        "    \n",
        "    page += 1"
      ]
    },
    {
      "cell_type": "code",
      "execution_count": 5,
      "metadata": {},
      "outputs": [
        {
          "name": "stdout",
          "output_type": "stream",
          "text": [
            "/tin-tuc/hoi-dap-bac-si/buou-co-lanh-tinh-keo-dai-co-can-dieu-tri-khong/\n"
          ]
        }
      ],
      "source": [
        "print(list_url[100])"
      ]
    },
    {
      "cell_type": "code",
      "execution_count": 45,
      "metadata": {},
      "outputs": [],
      "source": [
        "BASE_URL_NEXT = \"https://www.vinmec.com/vi\"\n",
        "qna_data = []\n",
        "\n",
        "for url in list_url:\n",
        "    response = requests.get(BASE_URL_NEXT + url)\n",
        "    soup = BeautifulSoup(response.text, 'html5lib')\n",
        "\n",
        "    div = soup.find_all(\"div\", class_=\"rich-text\")[0]\n",
        "    ques = \"\"\n",
        "    ans = \"\"\n",
        "    is_question = False\n",
        "    is_answer = False\n",
        "    for i in div.children:\n",
        "        if i.name:\n",
        "            t = i.get_text().strip()\n",
        "            if t == \"Hỏi\":\n",
        "                is_question = True\n",
        "            elif t == \"Trả lời\":\n",
        "                is_question = False\n",
        "                is_answer = True\n",
        "\n",
        "            if is_question:\n",
        "                ques += t + \" \"\n",
        "            elif is_answer:\n",
        "                ans += t + \" \"\n",
        "\n",
        "        ques = ques.strip().replace(\"Hỏi\", \"\", 1).strip()\n",
        "        ans = ans.strip().replace(\"Trả lời\", \"\", 1).strip()\n",
        "\n",
        "    qna_data.append({\n",
        "        'question': ques,\n",
        "        'answer': ans\n",
        "    })\n"
      ]
    },
    {
      "cell_type": "code",
      "execution_count": 46,
      "metadata": {},
      "outputs": [],
      "source": [
        "df = pd.DataFrame(qna_data)\n",
        "df.to_csv('vinmec_qna.csv', index=False, encoding='utf-8-sig')"
      ]
    }
  ],
  "metadata": {
    "colab": {
      "provenance": []
    },
    "kernelspec": {
      "display_name": "Python 3",
      "name": "python3"
    },
    "language_info": {
      "codemirror_mode": {
        "name": "ipython",
        "version": 3
      },
      "file_extension": ".py",
      "mimetype": "text/x-python",
      "name": "python",
      "nbconvert_exporter": "python",
      "pygments_lexer": "ipython3",
      "version": "3.10.1"
    }
  },
  "nbformat": 4,
  "nbformat_minor": 0
}
